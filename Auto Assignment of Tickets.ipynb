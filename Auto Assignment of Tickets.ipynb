{
 "cells": [
  {
   "cell_type": "code",
   "execution_count": 5,
   "metadata": {},
   "outputs": [],
   "source": [
    "import win32com.client\n",
    "import ctypes # for the VM_QUIT to stop PumpMessage()\n",
    "import pythoncom\n",
    "import re\n",
    "import time\n",
    "import psutil\n"
   ]
  },
  {
   "cell_type": "code",
   "execution_count": null,
   "metadata": {},
   "outputs": [],
   "source": [
    "\n",
    "class Handler_Class(object):\n",
    "\n",
    "    def __init__(self):\n",
    "        # First action to do when using the class in the DispatchWithEvents     \n",
    "        inbox = self.Application.GetNamespace(\"MAPI\").GetDefaultFolder(6)\n",
    "        messages = inbox.Items\n",
    "        # Check for unread emails when starting the event\n",
    "        for message in messages:\n",
    "            if message.UnRead:\n",
    "                print (message.Subject) # Or whatever code you wish to execute.\n",
    "\n",
    "    def OnQuit(self):\n",
    "        # To stop PumpMessages() when Outlook Quit\n",
    "        # Note: Not sure it works when disconnecting!!\n",
    "        ctypes.windll.user32.PostQuitMessage(0)\n",
    "\n",
    "    def OnNewMailEx(self, receivedItemsIDs):\n",
    "    # RecrivedItemIDs is a collection of mail IDs separated by a \",\".\n",
    "    # You know, sometimes more than 1 mail is received at the same moment.\n",
    "        for ID in receivedItemsIDs.split(\",\"):\n",
    "            mail = self.Session.GetItemFromID(ID)\n",
    "            subject = mail.Subject\n",
    "            print(subject)   \n",
    "            try: \n",
    "                command = re.search(r\"%(.*?)%\", subject).group(1)\n",
    "                print (command) # Or whatever code you wish to execute.\n",
    "            except:\n",
    "                pass\n",
    "\n",
    "# Function to check if outlook is open\n",
    "def check_outlook_open ():\n",
    "    list_process = []\n",
    "    for pid in psutil.pids():\n",
    "        p = psutil.Process(pid)\n",
    "        # Append to the list of process\n",
    "        list_process.append(p.name())\n",
    "    # If outlook open then return True\n",
    "    if 'OUTLOOK.EXE' in list_process:\n",
    "        return True\n",
    "    else:\n",
    "        return False\n",
    "\n",
    "# Loop \n",
    "while True:\n",
    "    try:\n",
    "        outlook_open = check_outlook_open()\n",
    "    except: \n",
    "        outlook_open = False\n",
    "    # If outlook opened then it will start the DispatchWithEvents\n",
    "    if outlook_open == True:\n",
    "        outlook = win32com.client.DispatchWithEvents(\"Outlook.Application\", Handler_Class)\n",
    "        pythoncom.PumpMessages()\n",
    "    # To not check all the time (should increase 10 depending on your needs)\n",
    "    time.sleep(10)"
   ]
  },
  {
   "cell_type": "code",
   "execution_count": 3,
   "metadata": {},
   "outputs": [],
   "source": [
    "mes = \"\"\"\n",
    "Incident INC000018139112 <https://rb-smt.de.bosch.com/arsys/forms/smt-backend/SHR%3ALandingConsole/Default+Administrator+View/?mode=search&F304255500=HPD:Help+Desk&F304249330=IDGACUQOIVLLWAQ14A3WQ05WVHBLAC&F1000000076=FormOpen&F303647600=ShowTicket>  has been assigned to your group 'Client Application Technology RBEI'. (Site: Ka)\n",
    "\n",
    "Customer\n",
    "\n",
    "Hagenlocher Lisa\n",
    "\n",
    "Department\n",
    "\n",
    "AA/CPE1\n",
    "\n",
    "Site\n",
    "\n",
    "Ka\n",
    "\n",
    "\n",
    "\n",
    "Priority\n",
    "\n",
    "Low\n",
    "\n",
    "Opt. Cat. Tier 1\n",
    "\n",
    "Failure\n",
    "\n",
    "Product Cat. Tier 1\n",
    "\n",
    "Service\n",
    "\n",
    "Product Cat. Tier 2\n",
    "\n",
    "Application Service\n",
    "\n",
    "Product Cat. Tier 3\n",
    "\n",
    "Application Service\n",
    "\n",
    "Service CI\n",
    "\n",
    "THINK-CELL\n",
    "\n",
    "CI\n",
    "\n",
    "\n",
    "Assigned Group\n",
    "\n",
    "Client Application Technology RBEI\n",
    "\n",
    "Summary\n",
    "\n",
    "Fehlermeldung thik-cell\n",
    "\n",
    "Notes\n",
    "\n",
    "Q: User ID (e.g. xyz8fe):\n",
    "A:HLA6FE\n",
    "\n",
    "Q: Computer name (e.g. fe-z0815):\n",
    "A:KA-Z8024\n",
    "\n",
    "Q: How can the customer be reached:\n",
    "( xxx ) Desk phone; number: +49(721)942-2127\n",
    "( xxx  ) Mobile phone; number: +49(173)5826962\n",
    "(   ) E-Mail; address: ?\n",
    "\n",
    "Q: Location / time zone of the user:\n",
    "A:Ka\n",
    "\n",
    "Q: Problem description:\n",
    "A: Frau Hagenlocher meldet dass seit April sie Think-cell nicht benutzen kann, weil auf dem Rechner kein Update vorgenommen wurde\n",
    "\n",
    "Incident ID\n",
    "\n",
    "INC000018139112 <https://rb-smt.de.bosch.com/arsys/forms/smt-backend/SHR%3ALandingConsole/Default+Administrator+View/?mode=search&F304255500=HPD:Help+Desk&F304249330=IDGACUQOIVLLWAQ14A3WQ05WVHBLAC&F1000000076=FormOpen&F303647600=ShowTicket>\n",
    "\n",
    "\"\"\""
   ]
  },
  {
   "cell_type": "code",
   "execution_count": 4,
   "metadata": {},
   "outputs": [
    {
     "data": {
      "text/plain": [
       "\"\\nIncident INC000018139112 <https://rb-smt.de.bosch.com/arsys/forms/smt-backend/SHR%3ALandingConsole/Default+Administrator+View/?mode=search&F304255500=HPD:Help+Desk&F304249330=IDGACUQOIVLLWAQ14A3WQ05WVHBLAC&F1000000076=FormOpen&F303647600=ShowTicket>  has been assigned to your group 'Client Application Technology RBEI'. (Site: Ka)\\n\\nCustomer\\n\\nHagenlocher Lisa\\n\\nDepartment\\n\\nAA/CPE1\\n\\nSite\\n\\nKa\\n\\n\\n\\nPriority\\n\\nLow\\n\\nOpt. Cat. Tier 1\\n\\nFailure\\n\\nProduct Cat. Tier 1\\n\\nService\\n\\nProduct Cat. Tier 2\\n\\nApplication Service\\n\\nProduct Cat. Tier 3\\n\\nApplication Service\\n\\nService CI\\n\\nTHINK-CELL\\n\\nCI\\n\\n\\nAssigned Group\\n\\nClient Application Technology RBEI\\n\\nSummary\\n\\nFehlermeldung thik-cell\\n\\nNotes\\n\\nQ: User ID (e.g. xyz8fe):\\nA:HLA6FE\\n\\nQ: Computer name (e.g. fe-z0815):\\nA:KA-Z8024\\n\\nQ: How can the customer be reached:\\n( xxx ) Desk phone; number: +49(721)942-2127\\n( xxx  ) Mobile phone; number: +49(173)5826962\\n(   ) E-Mail; address: ?\\n\\nQ: Location / time zone of the user:\\nA:Ka\\n\\nQ: Problem description:\\nA: Frau Hagenlocher meldet dass seit April sie Think-cell nicht benutzen kann, weil auf dem Rechner kein Update vorgenommen wurde\\n\\nIncident ID\\n\\nINC000018139112 <https://rb-smt.de.bosch.com/arsys/forms/smt-backend/SHR%3ALandingConsole/Default+Administrator+View/?mode=search&F304255500=HPD:Help+Desk&F304249330=IDGACUQOIVLLWAQ14A3WQ05WVHBLAC&F1000000076=FormOpen&F303647600=ShowTicket>\\n\\n\""
      ]
     },
     "execution_count": 4,
     "metadata": {},
     "output_type": "execute_result"
    }
   ],
   "source": [
    "mes"
   ]
  },
  {
   "cell_type": "code",
   "execution_count": 10,
   "metadata": {},
   "outputs": [
    {
     "name": "stdout",
     "output_type": "stream",
     "text": [
      "https://rb-smt.de.bosch.com/arsys/forms/smt-backend/SHR%3ALandingConsole/Default+Administrator+View/?mode=search&F304255500=HPD:Help+Desk&F304249330=IDGACUQOIVLLWAQ14A3WQ05WVHBLAC&F1000000076=FormOpen&F303647600=ShowTicket\n"
     ]
    }
   ],
   "source": [
    "start = mes.find(\"<\") + len(\"<\")\n",
    "end = mes.find(\">\")\n",
    "substring = mes[start:end]\n",
    "print(substring)"
   ]
  },
  {
   "cell_type": "code",
   "execution_count": 45,
   "metadata": {},
   "outputs": [
    {
     "name": "stdout",
     "output_type": "stream",
     "text": [
      "THINK-CELL\n",
      "10\n"
     ]
    }
   ],
   "source": [
    "start = mes.find(\"Service CI\")+ len(\"Service CI\")+2\n",
    "end = mes.find(\"\\nCI\")\n",
    "substring = mes[start:end-1]\n",
    "print(substring)\n",
    "print(len(substring))"
   ]
  },
  {
   "cell_type": "code",
   "execution_count": 40,
   "metadata": {},
   "outputs": [
    {
     "data": {
      "text/plain": [
       "10"
      ]
     },
     "execution_count": 40,
     "metadata": {},
     "output_type": "execute_result"
    }
   ],
   "source": [
    "len(\"THINK-CELL\")"
   ]
  },
  {
   "cell_type": "code",
   "execution_count": 46,
   "metadata": {},
   "outputs": [],
   "source": [
    "SMP = dict()"
   ]
  },
  {
   "cell_type": "code",
   "execution_count": null,
   "metadata": {},
   "outputs": [],
   "source": [
    "SPM[\"THINK-CELL\"] = \"Kavya Rani\""
   ]
  },
  {
   "cell_type": "code",
   "execution_count": null,
   "metadata": {},
   "outputs": [],
   "source": [
    "#C:\\Users\\iad7kor\\Downloads\\firefox\\geckodriver.exe"
   ]
  },
  {
   "cell_type": "code",
   "execution_count": 12,
   "metadata": {},
   "outputs": [],
   "source": [
    "import requests\n",
    "from bs4 import BeautifulSoup\n",
    "from selenium import webdriver\n",
    "import time\n",
    "from selenium.webdriver.common.keys import Keys\n"
   ]
  },
  {
   "cell_type": "code",
   "execution_count": 17,
   "metadata": {},
   "outputs": [],
   "source": [
    "browser = webdriver.Firefox(executable_path=\"C:\\\\Users\\\\iad7kor\\\\Desktop\\\\firefox\\\\geckodriver.exe\")\n",
    "browser.get(\"https://rb-smt.de.bosch.com/arsys/forms/smt-backend/SHR%3ALandingConsole/Default+Administrator+View/?mode=search&F304255500=HPD:Help+Desk&F304249330=IDGACUQOIVLLWAQ14A3WQ05WVHBLAC&F1000000076=FormOpen&F303647600=ShowTicket\")"
   ]
  },
  {
   "cell_type": "code",
   "execution_count": null,
   "metadata": {},
   "outputs": [],
   "source": []
  }
 ],
 "metadata": {
  "kernelspec": {
   "display_name": "Python 3",
   "language": "python",
   "name": "python3"
  },
  "language_info": {
   "codemirror_mode": {
    "name": "ipython",
    "version": 3
   },
   "file_extension": ".py",
   "mimetype": "text/x-python",
   "name": "python",
   "nbconvert_exporter": "python",
   "pygments_lexer": "ipython3",
   "version": "3.7.4"
  }
 },
 "nbformat": 4,
 "nbformat_minor": 2
}
